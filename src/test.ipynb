{
 "cells": [
  {
   "cell_type": "code",
   "execution_count": 12,
   "metadata": {},
   "outputs": [
    {
     "name": "stdout",
     "output_type": "stream",
     "text": [
      "35.99999999\n",
      "5.7947856276e-08\n"
     ]
    }
   ],
   "source": [
    "from gekko import GEKKO\n",
    "\n",
    "m=GEKKO(remote=False)\n",
    "n=[0,1,2,3,4,5,6]\n",
    "t=[m.Intermediate(i**2) for i in n]\n",
    "\n",
    "mx = t[0] # max\n",
    "mn = t[0] # min\n",
    "for i in range(1,len(n)):\n",
    "    mx = m.max2(mx,t[i])\n",
    "    mn = m.min2(mn,t[i])\n",
    "\n",
    "# initialize with IPOPT\n",
    "m.options.IMODE = 3 # type: ignore\n",
    "m.options.SOLVER = 3\n",
    "m.solve(False)\n",
    "\n",
    "print(mx.value[0])\n",
    "print(mn.value[0])"
   ]
  },
  {
   "cell_type": "code",
   "execution_count": 16,
   "metadata": {},
   "outputs": [
    {
     "name": "stdout",
     "output_type": "stream",
     "text": [
      "[0.9]\n",
      "[0.96]\n"
     ]
    }
   ],
   "source": [
    "from gekko import GEKKO\n",
    "from back_end.sys_utils import get_eq_data\n",
    "\n",
    "m = GEKKO(remote=False)\n",
    "m.options.IMODE = 2 # type: ignore\n",
    "\n",
    "x_data, y_data = get_eq_data()\n",
    "\n",
    "Xi  = m.Var(lb=0, ub=1, value=0.5)\n",
    "Yi  = m.Var(lb=0, ub=1, value=0.5)\n",
    "\n",
    "# alpha   = m.Var(lb=0)\n",
    "\n",
    "m.cspline(Xi, Yi, x_data, y_data)\n",
    "# m.Equation(Xi == Yi/(Yi + alpha*(1 - Yi)))\n",
    "m.Equation(Xi == 0.9)\n",
    "\n",
    "m.solve(False)\n",
    "\n",
    "print(Xi.VALUE)\n",
    "print(Yi.VALUE)\n",
    "# print(alpha.VALUE)\n"
   ]
  },
  {
   "cell_type": "code",
   "execution_count": null,
   "metadata": {},
   "outputs": [
    {
     "data": {
      "text/plain": [
       "1.01"
      ]
     },
     "execution_count": 1,
     "metadata": {},
     "output_type": "execute_result"
    },
    {
     "data": {
      "image/png": "[encoded data removed]",
      "text/plain": [
       "<Figure size 640x480 with 1 Axes>"
      ]
     },
     "metadata": {},
     "output_type": "display_data"
    }
   ],
   "source": [
    "import matplotlib.pyplot as plt\n",
    "import math as mt\n",
    "\n",
    "def f1(x):\n",
    "    return x**2\n",
    "\n",
    "def f2(x):\n",
    "    return 3_000/x\n",
    "\n",
    "xs = [x/100 for x in range(101, 5_000, 5)]\n",
    "ys = [f2(xi) for xi in xs]\n",
    "\n",
    "plt.plot(xs, ys)\n",
    "\n",
    "xs[ys.index(min(ys))]"
   ]
  },
  {
   "cell_type": "code",
   "execution_count": 1,
   "metadata": {},
   "outputs": [
    {
     "data": {
      "text/plain": [
       "       message: Optimization terminated successfully.\n",
       "       success: True\n",
       "        status: 0\n",
       "           fun: 1.9420640199868412e-13\n",
       "             x: [ 1.000e+00  1.000e+00  1.000e+00  1.000e+00  1.000e+00]\n",
       "           nit: 295\n",
       "          nfev: 494\n",
       " final_simplex: (array([[ 1.000e+00,  1.000e+00, ...,  1.000e+00,\n",
       "                         1.000e+00],\n",
       "                       [ 1.000e+00,  1.000e+00, ...,  1.000e+00,\n",
       "                         1.000e+00],\n",
       "                       ...,\n",
       "                       [ 1.000e+00,  1.000e+00, ...,  1.000e+00,\n",
       "                         1.000e+00],\n",
       "                       [ 1.000e+00,  1.000e+00, ...,  1.000e+00,\n",
       "                         1.000e+00]]), array([ 1.942e-13,  2.450e-13,  3.104e-13,  3.380e-13,\n",
       "                        5.522e-13,  7.166e-13]))"
      ]
     },
     "execution_count": 1,
     "metadata": {},
     "output_type": "execute_result"
    }
   ],
   "source": [
    "from scipy.optimize import minimize, rosen\n",
    "\n",
    "x0 = [1.3, 0.7, 0.8, 1.9, 1.2]\n",
    "res = minimize(rosen, x0, method='Nelder-Mead', tol=1e-6)\n",
    "\n",
    "res"
   ]
  }
 ],
 "metadata": {
  "kernelspec": {
   "display_name": ".venv",
   "language": "python",
   "name": "python3"
  },
  "language_info": {
   "codemirror_mode": {
    "name": "ipython",
    "version": 3
   },
   "file_extension": ".py",
   "mimetype": "text/x-python",
   "name": "python",
   "nbconvert_exporter": "python",
   "pygments_lexer": "ipython3",
   "version": "3.12.0"
  }
 },
 "nbformat": 4,
 "nbformat_minor": 2
}
